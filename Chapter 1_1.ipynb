{
 "cells": [
  {
   "cell_type": "code",
   "execution_count": null,
   "metadata": {},
   "outputs": [],
   "source": [
    "import plotly.graph_objects as go\n",
    "import numpy as np\n",
    "\n",
    "trace1= go.Scatter(\n",
    "    x=np.arange(31), \n",
    "    y=1.08**np.arange(31),\n",
    "    mode=\"lines\",\n",
    "    name=\"8%\"\n",
    ")\n",
    "\n",
    "trace2 = go.Scatter(\n",
    "    x=np.arange(31), \n",
    "    y=1.04**np.arange(31),\n",
    "    mode=\"lines\",\n",
    "    name=\"4%\"\n",
    ")\n",
    "\n",
    "fig = go.Figure()\n",
    "fig.add_trace(trace1)\n",
    "fig.add_trace(trace2)\n",
    "string = \"year %{x}<br>balance = $%{y:.2f}\"\n",
    "fig.update_traces(hovertemplate=string)\n",
    "fig.update_layout(\n",
    "    template=\"none\",\n",
    "    xaxis_title=\"Year\",\n",
    "    yaxis_title=\"Account Balance\",\n",
    "    yaxis_tickprefix=\"$\", \n",
    "    yaxis_tickformat=\",.0f\",\n",
    "    legend=dict(\n",
    "        yanchor=\"top\", \n",
    "        y=0.99, \n",
    "        xanchor=\"left\", \n",
    "        x=0.01\n",
    "        )\n",
    ")\n",
    "fig.show()"
   ]
  }
 ],
 "metadata": {
  "language_info": {
   "name": "python"
  },
  "orig_nbformat": 4
 },
 "nbformat": 4,
 "nbformat_minor": 2
}
